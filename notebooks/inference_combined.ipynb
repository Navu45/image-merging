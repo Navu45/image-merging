{
 "cells": [
  {
   "cell_type": "code",
   "execution_count": 1,
   "outputs": [],
   "source": [
    "import os\n",
    "import random\n",
    "\n",
    "import torch\n",
    "from PIL import Image\n",
    "from diffusers import DPMSolverMultistepScheduler\n",
    "from diffusers.utils import make_image_grid\n",
    "\n",
    "from models.combined_pipeline import CombinedPipeline\n"
   ],
   "metadata": {
    "collapsed": false,
    "ExecuteTime": {
     "start_time": "2023-10-21T22:38:09.562575Z",
     "end_time": "2023-10-21T22:38:15.473381Z"
    }
   }
  },
  {
   "cell_type": "code",
   "execution_count": 2,
   "outputs": [
    {
     "data": {
      "text/plain": "Loading pipeline components...:   0%|          | 0/9 [00:00<?, ?it/s]",
      "application/vnd.jupyter.widget-view+json": {
       "version_major": 2,
       "version_minor": 0,
       "model_id": "b9c406e8a06043ae948b098e8fff484c"
      }
     },
     "metadata": {},
     "output_type": "display_data"
    }
   ],
   "source": [
    "pipe = CombinedPipeline.from_pretrained('../models/weights/img2img-painting', torch_dtype=torch.float16, variant='fp16', use_safetensors=True)\n",
    "pipe.scheduler = DPMSolverMultistepScheduler.from_config(pipe.scheduler.config)\n",
    "lora_model_path = '../models/weights/img2img-painting-lora/pytorch_lora_weights.safetensors'\n",
    "# lora_model_path = '../models/weights/_/models/weights/img2img-painting-lora/checkpoint-500/pytorch_model.bin'\n",
    "# pipe.unet.load_attn_procs(lora_model_path)\n",
    "pipe.enable_model_cpu_offload()"
   ],
   "metadata": {
    "collapsed": false,
    "ExecuteTime": {
     "start_time": "2023-10-21T22:38:15.475380Z",
     "end_time": "2023-10-21T22:38:17.971960Z"
    }
   }
  },
  {
   "cell_type": "code",
   "execution_count": 3,
   "outputs": [],
   "source": [
    "def save_images(images, path=''):\n",
    "    for i, image in enumerate(images):\n",
    "        image.save(path + f'image{i}.png')\n",
    "\n",
    "def create_img(source_image, target_image):\n",
    "    source_image, target_image = source_image, target_image\n",
    "    text = ['shirt', 'pants', 'shorts', 'shoes', 't-shirt',\n",
    "            'sweatshirt', \"cowboy boot\", \"cowboy hat\",\n",
    "            'crash helmet', 'cardigan', 'blouse', 'jacket', 'jeans',]\n",
    "    condition = ['head, neck', 'hair', 'face', 'hand',]\n",
    "    return pipe(source_image, target_image,\n",
    "                source_prompt=text,\n",
    "                source_negative_prompt=condition,\n",
    "                target_prompt=text,\n",
    "                target_negative_prompt=condition,\n",
    "                guidance_scale=9, num_inference_steps=100,\n",
    "                mask_threshold=0.4,\n",
    "                cross_attention_kwargs={\"scale\": 0.5},)"
   ],
   "metadata": {
    "collapsed": false,
    "ExecuteTime": {
     "start_time": "2023-10-21T22:38:17.964966Z",
     "end_time": "2023-10-21T22:38:17.982959Z"
    }
   }
  },
  {
   "cell_type": "code",
   "execution_count": 4,
   "outputs": [],
   "source": [
    "input_folder = '../cache/in/'\n",
    "output_folder = '../cache/out/'"
   ],
   "metadata": {
    "collapsed": false,
    "ExecuteTime": {
     "start_time": "2023-10-21T22:38:17.977958Z",
     "end_time": "2023-10-21T22:38:17.992959Z"
    }
   }
  },
  {
   "cell_type": "code",
   "execution_count": 5,
   "outputs": [],
   "source": [
    "from datasets import load_from_disk\n",
    "\n",
    "DATASET_DIR = 'SaffalPoosh/deepFashion-with-masks'\n",
    "dataset = load_from_disk('../data/dataset/train/')\n",
    "start = 200\n",
    "count = 3\n",
    "save_images(dataset['train'][start: start + count]['images'], path=input_folder)"
   ],
   "metadata": {
    "collapsed": false,
    "ExecuteTime": {
     "start_time": "2023-10-21T22:38:17.993958Z",
     "end_time": "2023-10-21T22:38:19.132557Z"
    }
   }
  },
  {
   "cell_type": "code",
   "execution_count": 6,
   "outputs": [
    {
     "data": {
      "text/plain": "  0%|          | 0/100 [00:00<?, ?it/s]",
      "application/vnd.jupyter.widget-view+json": {
       "version_major": 2,
       "version_minor": 0,
       "model_id": "1c61154e5f3d4ad29d5533481bafbd09"
      }
     },
     "metadata": {},
     "output_type": "display_data"
    },
    {
     "data": {
      "text/plain": "  0%|          | 0/100 [00:00<?, ?it/s]",
      "application/vnd.jupyter.widget-view+json": {
       "version_major": 2,
       "version_minor": 0,
       "model_id": "66d8eb1bfb6941ffbcbcad45ae750fb7"
      }
     },
     "metadata": {},
     "output_type": "display_data"
    },
    {
     "data": {
      "text/plain": "  0%|          | 0/100 [00:00<?, ?it/s]",
      "application/vnd.jupyter.widget-view+json": {
       "version_major": 2,
       "version_minor": 0,
       "model_id": "7a41dea94565497e9f889d2c71387ecf"
      }
     },
     "metadata": {},
     "output_type": "display_data"
    },
    {
     "data": {
      "text/plain": "  0%|          | 0/100 [00:00<?, ?it/s]",
      "application/vnd.jupyter.widget-view+json": {
       "version_major": 2,
       "version_minor": 0,
       "model_id": "c6e119e798b048c397b1aabbbd01a77c"
      }
     },
     "metadata": {},
     "output_type": "display_data"
    },
    {
     "data": {
      "text/plain": "  0%|          | 0/100 [00:00<?, ?it/s]",
      "application/vnd.jupyter.widget-view+json": {
       "version_major": 2,
       "version_minor": 0,
       "model_id": "d485b52566424db9b8d66db0f104ede2"
      }
     },
     "metadata": {},
     "output_type": "display_data"
    },
    {
     "data": {
      "text/plain": "  0%|          | 0/100 [00:00<?, ?it/s]",
      "application/vnd.jupyter.widget-view+json": {
       "version_major": 2,
       "version_minor": 0,
       "model_id": "9ee3103f3ea645e4b5001709c1a36e4f"
      }
     },
     "metadata": {},
     "output_type": "display_data"
    }
   ],
   "source": [
    "paths = os.listdir(input_folder)\n",
    "random.shuffle(paths)\n",
    "\n",
    "images = [Image.open(input_folder + path) for path in paths]\n",
    "generated_images, couple = [], []\n",
    "\n",
    "for i in range(len(images)):\n",
    "    for j in range(i + 1, len(images)):\n",
    "        images[i], images[j] = images[i].resize((512, 512)), images[j].resize((512, 512))\n",
    "        generated_images.extend([\n",
    "            make_image_grid([*create_img(images[i], images[j]),\n",
    "                             images[i], images[j]], 3, 2),\n",
    "            make_image_grid([*create_img(images[j], images[i]),\n",
    "                             images[j], images[i]], 3, 2)\n",
    "        ])"
   ],
   "metadata": {
    "collapsed": false,
    "ExecuteTime": {
     "start_time": "2023-10-21T22:38:19.131558Z",
     "end_time": "2023-10-21T22:41:06.148577Z"
    }
   }
  },
  {
   "cell_type": "code",
   "execution_count": 7,
   "outputs": [],
   "source": [
    "save_images(generated_images, path=output_folder)"
   ],
   "metadata": {
    "collapsed": false,
    "ExecuteTime": {
     "start_time": "2023-10-21T22:41:06.136576Z",
     "end_time": "2023-10-21T22:41:07.150581Z"
    }
   }
  },
  {
   "cell_type": "code",
   "execution_count": 7,
   "outputs": [],
   "source": [],
   "metadata": {
    "collapsed": false,
    "ExecuteTime": {
     "start_time": "2023-10-21T22:41:07.151578Z",
     "end_time": "2023-10-21T22:41:07.167580Z"
    }
   }
  }
 ],
 "metadata": {
  "kernelspec": {
   "display_name": "Python 3",
   "language": "python",
   "name": "python3"
  },
  "language_info": {
   "codemirror_mode": {
    "name": "ipython",
    "version": 3
   },
   "file_extension": ".py",
   "mimetype": "text/x-python",
   "name": "python",
   "nbconvert_exporter": "python",
   "pygments_lexer": "ipython3",
   "version": "3.9.16"
  }
 },
 "nbformat": 4,
 "nbformat_minor": 0
}
