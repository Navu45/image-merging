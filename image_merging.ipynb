{
 "cells": [
  {
   "cell_type": "code",
   "execution_count": null,
   "outputs": [],
   "source": [
    "!pip install git+https://github.com/Navu45/image-merging.git"
   ],
   "metadata": {
    "collapsed": false,
    "ExecuteTime": {
     "start_time": "2023-10-04T18:56:12.719401Z",
     "end_time": "2023-10-04T18:56:20.429443Z"
    }
   }
  },
  {
   "cell_type": "code",
   "execution_count": null,
   "outputs": [],
   "source": [
    "import gradio as gr\n",
    "import torch\n",
    "\n",
    "from models.image_merging import StableDiffusionImageMergingPipeline"
   ],
   "metadata": {
    "collapsed": false,
    "ExecuteTime": {
     "start_time": "2023-10-04T18:56:20.431695Z",
     "end_time": "2023-10-04T18:56:26.011455Z"
    }
   }
  },
  {
   "cell_type": "code",
   "execution_count": null,
   "metadata": {
    "collapsed": true,
    "ExecuteTime": {
     "start_time": "2023-10-04T18:56:26.014454Z",
     "end_time": "2023-10-04T18:56:33.285085Z"
    }
   },
   "outputs": [],
   "source": [
    "pipe = StableDiffusionImageMergingPipeline.from_pretrained(\n",
    "    \"lambdalabs/sd-image-variations-diffusers\", revision=\"v2.0\",\n",
    "    torch_dtype=torch.float16\n",
    ")\n",
    "pipe.to(\"cuda\")\n",
    "pipe.enable_xformers_memory_efficient_attention()"
   ]
  },
  {
   "cell_type": "code",
   "execution_count": null,
   "outputs": [],
   "source": [
    "def save_images(*images):\n",
    "    for i, image in enumerate(images):\n",
    "        image.save(f'image{i}.png')\n",
    "\n",
    "def create_img(source_image, merge_image) -> list:\n",
    "    with torch.no_grad():\n",
    "      image = pipe(source_image, merge_image, guidance_scale=3).images[0]\n",
    "    return image\n",
    "\n",
    "with gr.Blocks() as demo:\n",
    "    with gr.Tab(\"Merge two images\"):\n",
    "        with gr.Row():\n",
    "            source_image_input = gr.Image(type='pil')\n",
    "            merge_image_input = gr.Image(type='pil')\n",
    "        with gr.Row():\n",
    "            image_output = gr.Image()\n",
    "        image_button = gr.Button(\"Generate merged image!\")\n",
    "    image_button.click(create_img, inputs=[source_image_input, merge_image_input], outputs=image_output)\n",
    "\n",
    "demo.launch(debug=True)"
   ],
   "metadata": {
    "collapsed": false,
    "ExecuteTime": {
     "start_time": "2023-10-04T18:56:33.291084Z",
     "end_time": "2023-10-04T19:04:01.532788Z"
    }
   }
  }
 ],
 "metadata": {
  "kernelspec": {
   "display_name": "Python 3",
   "language": "python",
   "name": "python3"
  },
  "language_info": {
   "codemirror_mode": {
    "name": "ipython",
    "version": 2
   },
   "file_extension": ".py",
   "mimetype": "text/x-python",
   "name": "python",
   "nbconvert_exporter": "python",
   "pygments_lexer": "ipython2",
   "version": "2.7.6"
  }
 },
 "nbformat": 4,
 "nbformat_minor": 0
}
