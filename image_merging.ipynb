{
 "cells": [
  {
   "cell_type": "code",
   "execution_count": null,
   "outputs": [],
   "source": [
    "!pip install git+https://github.com/Navu45/image-merging.git"
   ],
   "metadata": {
    "collapsed": false
   }
  },
  {
   "cell_type": "code",
   "execution_count": null,
   "metadata": {
    "collapsed": true
   },
   "outputs": [],
   "source": [
    "import gradio as gr\n",
    "import torch\n",
    "\n",
    "from models.image_merging import StableDiffusionImageMergingPipeline\n",
    "\n",
    "pipe = StableDiffusionImageMergingPipeline.from_pretrained(\n",
    "    \"lambdalabs/sd-image-variations-diffusers\", revision=\"v2.0\",\n",
    "    torch_dtype=torch.float16, use_safetensors=True\n",
    ")\n",
    "pipe.to(\"cuda\")\n",
    "pipe.enable_xformers_memory_efficient_attention()\n",
    "\n",
    "\n",
    "def create_img(source_image, merge_image) -> list:\n",
    "    generator = torch.Generator(device=\"cuda\").manual_seed(42)\n",
    "    image = pipe(source_image, merge_image, generator=generator, guidance_scale=3).images[0]\n",
    "    return image\n",
    "\n",
    "\n",
    "with gr.Blocks() as demo:\n",
    "    with gr.Tab(\"Merge two images\"):\n",
    "        with gr.Row():\n",
    "            source_image_input = gr.Image()\n",
    "            merge_image_input = gr.Image()\n",
    "        with gr.Row():\n",
    "            image_output = gr.Image()\n",
    "        image_button = gr.Button(\"Generate merged image!\")\n",
    "    image_button.click(create_img, inputs=[source_image_input, merge_image_input], outputs=image_output)\n",
    "\n",
    "demo.launch(debug=True)\n"
   ]
  }
 ],
 "metadata": {
  "kernelspec": {
   "display_name": "Python 3",
   "language": "python",
   "name": "python3"
  },
  "language_info": {
   "codemirror_mode": {
    "name": "ipython",
    "version": 2
   },
   "file_extension": ".py",
   "mimetype": "text/x-python",
   "name": "python",
   "nbconvert_exporter": "python",
   "pygments_lexer": "ipython2",
   "version": "2.7.6"
  }
 },
 "nbformat": 4,
 "nbformat_minor": 0
}
