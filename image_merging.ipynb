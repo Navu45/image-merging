{
 "cells": [
  {
   "cell_type": "code",
   "execution_count": 1,
   "outputs": [
    {
     "name": "stdout",
     "output_type": "stream",
     "text": [
      "Looking in indexes: https://pypi.org/simple, https://pypi.ngc.nvidia.com\n",
      "Collecting git+https://github.com/Navu45/image-merging.git\n",
      "  Cloning https://github.com/Navu45/image-merging.git to c:\\users\\alexey\\appdata\\local\\temp\\pip-req-build-7vivgtgt\n",
      "  Resolved https://github.com/Navu45/image-merging.git to commit 7d37b93bbb006340273aa66ca8aee14626b56f4b\n",
      "  Preparing metadata (setup.py): started\n",
      "  Preparing metadata (setup.py): finished with status 'done'\n",
      "Requirement already satisfied: diffusers in c:\\users\\alexey\\anaconda3\\envs\\hands-tracking\\lib\\site-packages (from image-merging==0.1) (0.22.0.dev0)\n",
      "Requirement already satisfied: transformers in c:\\users\\alexey\\anaconda3\\envs\\hands-tracking\\lib\\site-packages (from image-merging==0.1) (4.32.0)\n",
      "Requirement already satisfied: accelerate in c:\\users\\alexey\\anaconda3\\envs\\hands-tracking\\lib\\site-packages (from image-merging==0.1) (0.21.0)\n",
      "Requirement already satisfied: gradio in c:\\users\\alexey\\anaconda3\\envs\\hands-tracking\\lib\\site-packages (from image-merging==0.1) (3.46.0)\n",
      "Requirement already satisfied: xformers in c:\\users\\alexey\\anaconda3\\envs\\hands-tracking\\lib\\site-packages (from image-merging==0.1) (0.0.21)\n",
      "Requirement already satisfied: numpy>=1.17 in c:\\users\\alexey\\anaconda3\\envs\\hands-tracking\\lib\\site-packages (from accelerate->image-merging==0.1) (1.23.5)\n",
      "Requirement already satisfied: psutil in c:\\users\\alexey\\anaconda3\\envs\\hands-tracking\\lib\\site-packages (from accelerate->image-merging==0.1) (5.9.4)\n",
      "Requirement already satisfied: torch>=1.10.0 in c:\\users\\alexey\\anaconda3\\envs\\hands-tracking\\lib\\site-packages (from accelerate->image-merging==0.1) (2.0.1+cu118)\n",
      "Requirement already satisfied: pyyaml in c:\\users\\alexey\\anaconda3\\envs\\hands-tracking\\lib\\site-packages (from accelerate->image-merging==0.1) (6.0)\n",
      "Requirement already satisfied: packaging>=20.0 in c:\\users\\alexey\\anaconda3\\envs\\hands-tracking\\lib\\site-packages (from accelerate->image-merging==0.1) (23.0)\n",
      "Requirement already satisfied: huggingface-hub>=0.13.2 in c:\\users\\alexey\\anaconda3\\envs\\hands-tracking\\lib\\site-packages (from diffusers->image-merging==0.1) (0.16.4)\n",
      "Requirement already satisfied: regex!=2019.12.17 in c:\\users\\alexey\\anaconda3\\envs\\hands-tracking\\lib\\site-packages (from diffusers->image-merging==0.1) (2023.6.3)\n",
      "Requirement already satisfied: requests in c:\\users\\alexey\\anaconda3\\envs\\hands-tracking\\lib\\site-packages (from diffusers->image-merging==0.1) (2.28.1)\n",
      "Requirement already satisfied: importlib-metadata in c:\\users\\alexey\\anaconda3\\envs\\hands-tracking\\lib\\site-packages (from diffusers->image-merging==0.1) (6.0.0)\n",
      "Requirement already satisfied: safetensors>=0.3.1 in c:\\users\\alexey\\anaconda3\\envs\\hands-tracking\\lib\\site-packages (from diffusers->image-merging==0.1) (0.3.1)\n",
      "Requirement already satisfied: filelock in c:\\users\\alexey\\anaconda3\\envs\\hands-tracking\\lib\\site-packages (from diffusers->image-merging==0.1) (3.9.0)\n",
      "Requirement already satisfied: Pillow in c:\\users\\alexey\\anaconda3\\envs\\hands-tracking\\lib\\site-packages (from diffusers->image-merging==0.1) (9.4.0)\n",
      "Requirement already satisfied: orjson~=3.0 in c:\\users\\alexey\\anaconda3\\envs\\hands-tracking\\lib\\site-packages (from gradio->image-merging==0.1) (3.8.8)\n",
      "Requirement already satisfied: httpx in c:\\users\\alexey\\anaconda3\\envs\\hands-tracking\\lib\\site-packages (from gradio->image-merging==0.1) (0.23.3)\n",
      "Requirement already satisfied: semantic-version~=2.0 in c:\\users\\alexey\\anaconda3\\envs\\hands-tracking\\lib\\site-packages (from gradio->image-merging==0.1) (2.10.0)\n",
      "Requirement already satisfied: python-multipart in c:\\users\\alexey\\anaconda3\\envs\\hands-tracking\\lib\\site-packages (from gradio->image-merging==0.1) (0.0.6)\n",
      "Requirement already satisfied: gradio-client==0.5.3 in c:\\users\\alexey\\anaconda3\\envs\\hands-tracking\\lib\\site-packages (from gradio->image-merging==0.1) (0.5.3)\n",
      "Requirement already satisfied: importlib-resources<7.0,>=1.3 in c:\\users\\alexey\\anaconda3\\envs\\hands-tracking\\lib\\site-packages (from gradio->image-merging==0.1) (5.2.0)\n",
      "Requirement already satisfied: ffmpy in c:\\users\\alexey\\anaconda3\\envs\\hands-tracking\\lib\\site-packages (from gradio->image-merging==0.1) (0.3.1)\n",
      "Requirement already satisfied: altair<6.0,>=4.2.0 in c:\\users\\alexey\\anaconda3\\envs\\hands-tracking\\lib\\site-packages (from gradio->image-merging==0.1) (5.1.2)\n",
      "Requirement already satisfied: markupsafe~=2.0 in c:\\users\\alexey\\anaconda3\\envs\\hands-tracking\\lib\\site-packages (from gradio->image-merging==0.1) (2.1.2)\n",
      "Requirement already satisfied: websockets<12.0,>=10.0 in c:\\users\\alexey\\anaconda3\\envs\\hands-tracking\\lib\\site-packages (from gradio->image-merging==0.1) (10.4)\n",
      "Requirement already satisfied: matplotlib~=3.0 in c:\\users\\alexey\\anaconda3\\envs\\hands-tracking\\lib\\site-packages (from gradio->image-merging==0.1) (3.7.1)\n",
      "Requirement already satisfied: jinja2<4.0 in c:\\users\\alexey\\anaconda3\\envs\\hands-tracking\\lib\\site-packages (from gradio->image-merging==0.1) (3.1.2)\n",
      "Requirement already satisfied: pydantic!=1.8,!=1.8.1,!=2.0.0,!=2.0.1,<3.0.0,>=1.7.4 in c:\\users\\alexey\\anaconda3\\envs\\hands-tracking\\lib\\site-packages (from gradio->image-merging==0.1) (1.10.7)\n",
      "Requirement already satisfied: aiofiles<24.0,>=22.0 in c:\\users\\alexey\\anaconda3\\envs\\hands-tracking\\lib\\site-packages (from gradio->image-merging==0.1) (23.2.1)\n",
      "Requirement already satisfied: uvicorn>=0.14.0 in c:\\users\\alexey\\anaconda3\\envs\\hands-tracking\\lib\\site-packages (from gradio->image-merging==0.1) (0.21.1)\n",
      "Requirement already satisfied: fastapi in c:\\users\\alexey\\anaconda3\\envs\\hands-tracking\\lib\\site-packages (from gradio->image-merging==0.1) (0.88.0)\n",
      "Requirement already satisfied: typing-extensions~=4.0 in c:\\users\\alexey\\anaconda3\\envs\\hands-tracking\\lib\\site-packages (from gradio->image-merging==0.1) (4.4.0)\n",
      "Requirement already satisfied: pydub in c:\\users\\alexey\\anaconda3\\envs\\hands-tracking\\lib\\site-packages (from gradio->image-merging==0.1) (0.25.1)\n",
      "Requirement already satisfied: pandas<3.0,>=1.0 in c:\\users\\alexey\\anaconda3\\envs\\hands-tracking\\lib\\site-packages (from gradio->image-merging==0.1) (1.5.3)\n",
      "Requirement already satisfied: fsspec in c:\\users\\alexey\\anaconda3\\envs\\hands-tracking\\lib\\site-packages (from gradio-client==0.5.3->gradio->image-merging==0.1) (2023.3.0)\n",
      "Requirement already satisfied: tokenizers!=0.11.3,<0.14,>=0.11.1 in c:\\users\\alexey\\anaconda3\\envs\\hands-tracking\\lib\\site-packages (from transformers->image-merging==0.1) (0.13.3)\n",
      "Requirement already satisfied: tqdm>=4.27 in c:\\users\\alexey\\anaconda3\\envs\\hands-tracking\\lib\\site-packages (from transformers->image-merging==0.1) (4.65.0)\n",
      "Requirement already satisfied: sympy in c:\\users\\alexey\\anaconda3\\envs\\hands-tracking\\lib\\site-packages (from torch>=1.10.0->accelerate->image-merging==0.1) (1.11.1)\n",
      "Requirement already satisfied: networkx in c:\\users\\alexey\\anaconda3\\envs\\hands-tracking\\lib\\site-packages (from torch>=1.10.0->accelerate->image-merging==0.1) (3.0)\n",
      "Requirement already satisfied: toolz in c:\\users\\alexey\\anaconda3\\envs\\hands-tracking\\lib\\site-packages (from altair<6.0,>=4.2.0->gradio->image-merging==0.1) (0.12.0)\n",
      "Requirement already satisfied: jsonschema>=3.0 in c:\\users\\alexey\\anaconda3\\envs\\hands-tracking\\lib\\site-packages (from altair<6.0,>=4.2.0->gradio->image-merging==0.1) (4.17.3)\n",
      "Requirement already satisfied: zipp>=3.1.0 in c:\\users\\alexey\\anaconda3\\envs\\hands-tracking\\lib\\site-packages (from importlib-resources<7.0,>=1.3->gradio->image-merging==0.1) (3.11.0)\n",
      "Requirement already satisfied: kiwisolver>=1.0.1 in c:\\users\\alexey\\anaconda3\\envs\\hands-tracking\\lib\\site-packages (from matplotlib~=3.0->gradio->image-merging==0.1) (1.4.4)\n",
      "Requirement already satisfied: cycler>=0.10 in c:\\users\\alexey\\anaconda3\\envs\\hands-tracking\\lib\\site-packages (from matplotlib~=3.0->gradio->image-merging==0.1) (0.11.0)\n",
      "Requirement already satisfied: python-dateutil>=2.7 in c:\\users\\alexey\\anaconda3\\envs\\hands-tracking\\lib\\site-packages (from matplotlib~=3.0->gradio->image-merging==0.1) (2.8.2)\n",
      "Requirement already satisfied: fonttools>=4.22.0 in c:\\users\\alexey\\anaconda3\\envs\\hands-tracking\\lib\\site-packages (from matplotlib~=3.0->gradio->image-merging==0.1) (4.25.0)\n",
      "Requirement already satisfied: pyparsing>=2.3.1 in c:\\users\\alexey\\anaconda3\\envs\\hands-tracking\\lib\\site-packages (from matplotlib~=3.0->gradio->image-merging==0.1) (3.0.9)\n",
      "Requirement already satisfied: contourpy>=1.0.1 in c:\\users\\alexey\\anaconda3\\envs\\hands-tracking\\lib\\site-packages (from matplotlib~=3.0->gradio->image-merging==0.1) (1.0.5)\n",
      "Requirement already satisfied: pytz>=2020.1 in c:\\users\\alexey\\anaconda3\\envs\\hands-tracking\\lib\\site-packages (from pandas<3.0,>=1.0->gradio->image-merging==0.1) (2022.7.1)\n",
      "Requirement already satisfied: idna<4,>=2.5 in c:\\users\\alexey\\anaconda3\\envs\\hands-tracking\\lib\\site-packages (from requests->diffusers->image-merging==0.1) (3.4)\n",
      "Requirement already satisfied: certifi>=2017.4.17 in c:\\users\\alexey\\anaconda3\\envs\\hands-tracking\\lib\\site-packages (from requests->diffusers->image-merging==0.1) (2022.12.7)\n",
      "Requirement already satisfied: urllib3<1.27,>=1.21.1 in c:\\users\\alexey\\anaconda3\\envs\\hands-tracking\\lib\\site-packages (from requests->diffusers->image-merging==0.1) (1.26.14)\n",
      "Requirement already satisfied: charset-normalizer<3,>=2 in c:\\users\\alexey\\anaconda3\\envs\\hands-tracking\\lib\\site-packages (from requests->diffusers->image-merging==0.1) (2.1.1)\n",
      "Requirement already satisfied: colorama in c:\\users\\alexey\\anaconda3\\envs\\hands-tracking\\lib\\site-packages (from tqdm>=4.27->transformers->image-merging==0.1) (0.4.6)\n",
      "Requirement already satisfied: h11>=0.8 in c:\\users\\alexey\\anaconda3\\envs\\hands-tracking\\lib\\site-packages (from uvicorn>=0.14.0->gradio->image-merging==0.1) (0.14.0)\n",
      "Requirement already satisfied: click>=7.0 in c:\\users\\alexey\\appdata\\roaming\\python\\python39\\site-packages (from uvicorn>=0.14.0->gradio->image-merging==0.1) (8.0.4)\n",
      "Requirement already satisfied: starlette==0.22.0 in c:\\users\\alexey\\anaconda3\\envs\\hands-tracking\\lib\\site-packages (from fastapi->gradio->image-merging==0.1) (0.22.0)\n",
      "Requirement already satisfied: anyio<5,>=3.4.0 in c:\\users\\alexey\\anaconda3\\envs\\hands-tracking\\lib\\site-packages (from starlette==0.22.0->fastapi->gradio->image-merging==0.1) (3.6.2)\n",
      "Requirement already satisfied: rfc3986[idna2008]<2,>=1.3 in c:\\users\\alexey\\anaconda3\\envs\\hands-tracking\\lib\\site-packages (from httpx->gradio->image-merging==0.1) (1.5.0)\n",
      "Requirement already satisfied: httpcore<0.17.0,>=0.15.0 in c:\\users\\alexey\\anaconda3\\envs\\hands-tracking\\lib\\site-packages (from httpx->gradio->image-merging==0.1) (0.16.3)\n",
      "Requirement already satisfied: sniffio in c:\\users\\alexey\\anaconda3\\envs\\hands-tracking\\lib\\site-packages (from httpx->gradio->image-merging==0.1) (1.3.0)\n",
      "Requirement already satisfied: pyrsistent!=0.17.0,!=0.17.1,!=0.17.2,>=0.14.0 in c:\\users\\alexey\\anaconda3\\envs\\hands-tracking\\lib\\site-packages (from jsonschema>=3.0->altair<6.0,>=4.2.0->gradio->image-merging==0.1) (0.18.0)\n",
      "Requirement already satisfied: attrs>=17.4.0 in c:\\users\\alexey\\anaconda3\\envs\\hands-tracking\\lib\\site-packages (from jsonschema>=3.0->altair<6.0,>=4.2.0->gradio->image-merging==0.1) (22.2.0)\n",
      "Requirement already satisfied: six>=1.5 in c:\\users\\alexey\\anaconda3\\envs\\hands-tracking\\lib\\site-packages (from python-dateutil>=2.7->matplotlib~=3.0->gradio->image-merging==0.1) (1.16.0)\n",
      "Requirement already satisfied: mpmath>=0.19 in c:\\users\\alexey\\anaconda3\\envs\\hands-tracking\\lib\\site-packages (from sympy->torch>=1.10.0->accelerate->image-merging==0.1) (1.2.1)\n"
     ]
    },
    {
     "name": "stderr",
     "output_type": "stream",
     "text": [
      "WARNING: Ignoring invalid distribution -orch (c:\\users\\alexey\\anaconda3\\envs\\hands-tracking\\lib\\site-packages)\n",
      "WARNING: Ignoring invalid distribution -orch (c:\\users\\alexey\\anaconda3\\envs\\hands-tracking\\lib\\site-packages)\n",
      "  Running command git clone --filter=blob:none --quiet https://github.com/Navu45/image-merging.git 'C:\\Users\\Alexey\\AppData\\Local\\Temp\\pip-req-build-7vivgtgt'\n",
      "WARNING: Ignoring invalid distribution -orch (c:\\users\\alexey\\anaconda3\\envs\\hands-tracking\\lib\\site-packages)\n",
      "WARNING: Ignoring invalid distribution -orch (c:\\users\\alexey\\anaconda3\\envs\\hands-tracking\\lib\\site-packages)\n",
      "WARNING: Ignoring invalid distribution -orch (c:\\users\\alexey\\anaconda3\\envs\\hands-tracking\\lib\\site-packages)\n",
      "WARNING: Ignoring invalid distribution -orch (c:\\users\\alexey\\anaconda3\\envs\\hands-tracking\\lib\\site-packages)\n"
     ]
    }
   ],
   "source": [
    "!pip install git+https://github.com/Navu45/image-merging.git"
   ],
   "metadata": {
    "collapsed": false,
    "ExecuteTime": {
     "start_time": "2023-10-12T19:24:28.910864Z",
     "end_time": "2023-10-12T19:24:38.714145Z"
    }
   }
  },
  {
   "cell_type": "code",
   "execution_count": 2,
   "outputs": [],
   "source": [
    "import gradio as gr\n",
    "import torch\n",
    "from diffusers import DDIMScheduler\n",
    "from mobile_sam import sam_model_registry, SamAutomaticMaskGenerator\n",
    "\n",
    "from models.inpaint_image import InpaintPipeline, generate"
   ],
   "metadata": {
    "collapsed": false,
    "ExecuteTime": {
     "start_time": "2023-10-12T19:24:38.715645Z",
     "end_time": "2023-10-12T19:24:44.554876Z"
    }
   }
  },
  {
   "cell_type": "code",
   "execution_count": 3,
   "metadata": {
    "collapsed": true,
    "ExecuteTime": {
     "start_time": "2023-10-12T19:24:44.551879Z",
     "end_time": "2023-10-12T19:24:50.987173Z"
    }
   },
   "outputs": [
    {
     "name": "stderr",
     "output_type": "stream",
     "text": [
      "unet\\diffusion_pytorch_model.safetensors not found\n"
     ]
    },
    {
     "data": {
      "text/plain": "Loading pipeline components...:   0%|          | 0/5 [00:00<?, ?it/s]",
      "application/vnd.jupyter.widget-view+json": {
       "version_major": 2,
       "version_minor": 0,
       "model_id": "f3a9547dbd5f45a78007b0776205d5f5"
      }
     },
     "metadata": {},
     "output_type": "display_data"
    },
    {
     "name": "stderr",
     "output_type": "stream",
     "text": [
      "You are using a model of type clip_vision_model to instantiate a model of type clip. This is not supported for all configurations of models and can yield errors.\n",
      "A matching Triton is not available, some optimizations will not be enabled.\n",
      "Error caught was: No module named 'triton'\n"
     ]
    }
   ],
   "source": [
    "device = \"cuda\" if torch.cuda.is_available() else \"cpu\"\n",
    "\n",
    "pipe = InpaintPipeline.from_pretrained(\n",
    "    'Fantasy-Studio/Paint-by-Example',\n",
    "    torch_dtype=torch.float16,\n",
    "    # local_files_only=True\n",
    ")\n",
    "pipe.scheduler = DDIMScheduler.from_config(pipe.scheduler.config)\n",
    "pipe = pipe.to(device)\n",
    "pipe.enable_model_cpu_offload()\n",
    "pipe.enable_vae_slicing()\n",
    "pipe.enable_xformers_memory_efficient_attention()\n",
    "\n",
    "model_type = \"vit_t\"\n",
    "sam_checkpoint = \"./models/weights/mobile_sam.pt\"\n",
    "mobile_sam = sam_model_registry[model_type](checkpoint=sam_checkpoint)\n",
    "mobile_sam.to(device=device)\n",
    "mobile_sam.eval()\n",
    "mask_generator = SamAutomaticMaskGenerator(mobile_sam)"
   ]
  },
  {
   "cell_type": "code",
   "execution_count": 4,
   "outputs": [
    {
     "name": "stdout",
     "output_type": "stream",
     "text": [
      "Running on local URL:  http://127.0.0.1:7860\n",
      "\n",
      "To create a public link, set `share=True` in `launch()`.\n"
     ]
    },
    {
     "data": {
      "text/plain": "<IPython.core.display.HTML object>",
      "text/html": "<div><iframe src=\"http://127.0.0.1:7860/\" width=\"100%\" height=\"500\" allow=\"autoplay; camera; microphone; clipboard-read; clipboard-write;\" frameborder=\"0\" allowfullscreen></iframe></div>"
     },
     "metadata": {},
     "output_type": "display_data"
    },
    {
     "data": {
      "text/plain": "  0%|          | 0/100 [00:00<?, ?it/s]",
      "application/vnd.jupyter.widget-view+json": {
       "version_major": 2,
       "version_minor": 0,
       "model_id": "4ff75c772406480bb5663259e6214922"
      }
     },
     "metadata": {},
     "output_type": "display_data"
    },
    {
     "name": "stdout",
     "output_type": "stream",
     "text": [
      "Keyboard interruption in main thread... closing server.\n"
     ]
    },
    {
     "data": {
      "text/plain": ""
     },
     "execution_count": 4,
     "metadata": {},
     "output_type": "execute_result"
    }
   ],
   "source": [
    "def save_images(*images):\n",
    "    for i, image in enumerate(images):\n",
    "        image.save(f'image{i}.png')\n",
    "\n",
    "def create_img(source_image, target_image) -> list:\n",
    "    source_image, target_image = source_image.resize((512, 512)), target_image.resize((512, 512))\n",
    "    return generate(source_image, target_image, pipe, mask_generator)\n",
    "\n",
    "with gr.Blocks() as demo:\n",
    "    with gr.Tab(\"\"):\n",
    "        with gr.Row():\n",
    "            source_image_input = gr.Image(type='pil')\n",
    "            target_image_input = gr.Image(type='pil')\n",
    "        with gr.Row():\n",
    "            image_output = gr.Image()\n",
    "        image_button = gr.Button(\"Generate image!\")\n",
    "    image_button.click(create_img, inputs=[source_image_input, target_image_input], outputs=image_output)\n",
    "\n",
    "demo.launch(debug=True)"
   ],
   "metadata": {
    "collapsed": false,
    "ExecuteTime": {
     "start_time": "2023-10-12T19:24:50.982673Z",
     "end_time": "2023-10-12T19:27:43.282857Z"
    }
   }
  }
 ],
 "metadata": {
  "kernelspec": {
   "display_name": "Python 3",
   "language": "python",
   "name": "python3"
  },
  "language_info": {
   "codemirror_mode": {
    "name": "ipython",
    "version": 2
   },
   "file_extension": ".py",
   "mimetype": "text/x-python",
   "name": "python",
   "nbconvert_exporter": "python",
   "pygments_lexer": "ipython2",
   "version": "2.7.6"
  }
 },
 "nbformat": 4,
 "nbformat_minor": 0
}
